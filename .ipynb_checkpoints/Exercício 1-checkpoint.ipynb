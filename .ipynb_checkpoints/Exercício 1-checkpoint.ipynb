{
 "cells": [
  {
   "cell_type": "code",
   "execution_count": 3,
   "metadata": {},
   "outputs": [
    {
     "ename": "SyntaxError",
     "evalue": "invalid syntax (<ipython-input-3-9ceb34382280>, line 23)",
     "output_type": "error",
     "traceback": [
      "\u001b[0;36m  File \u001b[0;32m\"<ipython-input-3-9ceb34382280>\"\u001b[0;36m, line \u001b[0;32m23\u001b[0m\n\u001b[0;31m    theta_1 := - L * D_a  # Atualiza o theta_1\u001b[0m\n\u001b[0m            ^\u001b[0m\n\u001b[0;31mSyntaxError\u001b[0m\u001b[0;31m:\u001b[0m invalid syntax\n"
     ]
    }
   ],
   "source": [
    "import numpy as np\n",
    "import pandas as pd\n",
    "import matplotlib.pyplot as plt\n",
    "plt.rcParams['figure.figsize'] = (12.0, 9.0)\n",
    "\n",
    "data = pd.read_csv('data1.txt')\n",
    "X = data.iloc[:, 0]\n",
    "Y = data.iloc[:, 1]\n",
    "\n",
    "theta_1 = 0\n",
    "theta_0 = 0\n",
    "\n",
    "L = 0.01  # taxa de aprendizado\n",
    "epochs = 100  # número de iterações\n",
    "n = float(len(X)) # números de elementos de X\n",
    "\n",
    "loss_function_values = []\n",
    "\n",
    "for i in range(epochs):\n",
    "    Y_pred = theta_1*X + theta_0 # Valor previsto para Y\n",
    "    D_a = (-2/n) * sum(X * (Y - Y_pred))  # derivada do theta_1\n",
    "    D_b = (-2/n) * sum(Y - Y_pred)  # Derivada do theta_0\n",
    "    theta_1 = theta_1 - L * D_a  # Atualiza o theta_1\n",
    "    theta_0 = theta_0 - L * D_b  # Atualiza o theta_0\n",
    "    err = 0\n",
    "    for index, e in enumerate(X):\n",
    "        err = err + (Y_pred[index] - Y[index])**2\n",
    "    loss_function_values.append(1/(2*n) * err)\n",
    "    \n",
    "print (\"Coeficiente a: \" + str(theta_1) + \"\\nCoeficiente b: \" + str(theta_0))\n",
    "\n",
    "# Criando a função Y\n",
    "Y_pred = theta_1*X + theta_0\n",
    "\n",
    "# Plotando os valores com a regressão\n",
    "plt.scatter(X, Y)\n",
    "plt.plot([min(X), max(X)], [min(Y_pred), max(Y_pred)], color='red')  # regression line\n",
    "plt.show()"
   ]
  },
  {
   "cell_type": "code",
   "execution_count": 30,
   "metadata": {},
   "outputs": [
    {
     "data": {
      "text/plain": [
       "[<matplotlib.lines.Line2D at 0x7f9db22283d0>]"
      ]
     },
     "execution_count": 30,
     "metadata": {},
     "output_type": "execute_result"
    },
    {
     "data": {
      "image/png": "[encoded data removed]",
      "text/plain": [
       "<Figure size 864x648 with 1 Axes>"
      ]
     },
     "metadata": {
      "needs_background": "light"
     },
     "output_type": "display_data"
    }
   ],
   "source": [
    "# Cálculo da função custo\n",
    "X_loss = list(range(epochs))\n",
    "Y_loss = loss_function_values # Valores dos erros de cada iteração\n",
    "axes = plt.gca()\n",
    "axes.set_xlim([0,epochs]) # obs: \n",
    "plt.plot(X_loss, Y_loss)"
   ]
  }
 ],
 "metadata": {
  "kernelspec": {
   "display_name": "Python 3",
   "language": "python",
   "name": "python3"
  },
  "language_info": {
   "codemirror_mode": {
    "name": "ipython",
    "version": 3
   },
   "file_extension": ".py",
   "mimetype": "text/x-python",
   "name": "python",
   "nbconvert_exporter": "python",
   "pygments_lexer": "ipython3",
   "version": "3.8.5"
  }
 },
 "nbformat": 4,
 "nbformat_minor": 4
}
